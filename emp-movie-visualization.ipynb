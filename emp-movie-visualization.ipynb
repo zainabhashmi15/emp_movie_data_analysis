{
 "cells": [
  {
   "cell_type": "code",
   "execution_count": 1,
   "id": "9d96cca6",
   "metadata": {
    "execution": {
     "iopub.execute_input": "2023-07-18T10:29:04.002246Z",
     "iopub.status.busy": "2023-07-18T10:29:04.001822Z",
     "iopub.status.idle": "2023-07-18T10:29:04.022663Z",
     "shell.execute_reply": "2023-07-18T10:29:04.021555Z"
    },
    "papermill": {
     "duration": 0.039192,
     "end_time": "2023-07-18T10:29:04.025480",
     "exception": false,
     "start_time": "2023-07-18T10:29:03.986288",
     "status": "completed"
    },
    "tags": []
   },
   "outputs": [
    {
     "name": "stdout",
     "output_type": "stream",
     "text": [
      "/kaggle/input/dataset/employee.csv\n",
      "/kaggle/input/dataset/movie.csv\n"
     ]
    }
   ],
   "source": [
    "# This Python 3 environment comes with many helpful analytics libraries installed\n",
    "# It is defined by the kaggle/python Docker image: https://github.com/kaggle/docker-python\n",
    "# For example, here's several helpful packages to load\n",
    "\n",
    "import numpy as np # linear algebra\n",
    "import pandas as pd # data processing, CSV file I/O (e.g. pd.read_csv)\n",
    "\n",
    "# Input data files are available in the read-only \"../input/\" directory\n",
    "# For example, running this (by clicking run or pressing Shift+Enter) will list all files under the input directory\n",
    "\n",
    "import os\n",
    "for dirname, _, filenames in os.walk('/kaggle/input'):\n",
    "    for filename in filenames:\n",
    "        print(os.path.join(dirname, filename))\n",
    "\n",
    "# You can write up to 20GB to the current directory (/kaggle/working/) that gets preserved as output when you create a version using \"Save & Run All\" \n",
    "# You can also write temporary files to /kaggle/temp/, but they won't be saved outside of the current session"
   ]
  },
  {
   "cell_type": "markdown",
   "id": "af677423",
   "metadata": {
    "id": "p-OuCCdAZVUa",
    "papermill": {
     "duration": 0.012975,
     "end_time": "2023-07-18T10:29:04.053360",
     "exception": false,
     "start_time": "2023-07-18T10:29:04.040385",
     "status": "completed"
    },
    "tags": []
   },
   "source": [
    "**Pandas challenge questions**"
   ]
  },
  {
   "cell_type": "code",
   "execution_count": 2,
   "id": "722273a7",
   "metadata": {
    "execution": {
     "iopub.execute_input": "2023-07-18T10:29:04.085267Z",
     "iopub.status.busy": "2023-07-18T10:29:04.084762Z",
     "iopub.status.idle": "2023-07-18T10:29:04.089648Z",
     "shell.execute_reply": "2023-07-18T10:29:04.088835Z"
    },
    "executionInfo": {
     "elapsed": 1173,
     "status": "ok",
     "timestamp": 1687784826989,
     "user": {
      "displayName": "Zainab Hashmi",
      "userId": "18109503910469851693"
     },
     "user_tz": -330
    },
    "id": "1iZ_uZq0a_nj",
    "papermill": {
     "duration": 0.023746,
     "end_time": "2023-07-18T10:29:04.092205",
     "exception": false,
     "start_time": "2023-07-18T10:29:04.068459",
     "status": "completed"
    },
    "tags": []
   },
   "outputs": [],
   "source": [
    "#import packages\n",
    "import numpy as np\n",
    "import pandas as pd"
   ]
  },
  {
   "cell_type": "code",
   "execution_count": 3,
   "id": "6abdfa9d",
   "metadata": {
    "execution": {
     "iopub.execute_input": "2023-07-18T10:29:04.121169Z",
     "iopub.status.busy": "2023-07-18T10:29:04.120701Z",
     "iopub.status.idle": "2023-07-18T10:29:04.230515Z",
     "shell.execute_reply": "2023-07-18T10:29:04.229649Z"
    },
    "executionInfo": {
     "elapsed": 18,
     "status": "ok",
     "timestamp": 1687784826989,
     "user": {
      "displayName": "Zainab Hashmi",
      "userId": "18109503910469851693"
     },
     "user_tz": -330
    },
    "id": "4SrNIPsFbJdB",
    "papermill": {
     "duration": 0.127291,
     "end_time": "2023-07-18T10:29:04.233138",
     "exception": false,
     "start_time": "2023-07-18T10:29:04.105847",
     "status": "completed"
    },
    "tags": []
   },
   "outputs": [],
   "source": [
    "# import data set\n",
    "employee = pd.read_csv(r\"/kaggle/input/dataset/employee.csv\")\n",
    "movie = pd.read_csv(r\"/kaggle/input/dataset/movie.csv\")"
   ]
  },
  {
   "cell_type": "code",
   "execution_count": 4,
   "id": "d363a0ba",
   "metadata": {
    "execution": {
     "iopub.execute_input": "2023-07-18T10:29:04.262145Z",
     "iopub.status.busy": "2023-07-18T10:29:04.261298Z",
     "iopub.status.idle": "2023-07-18T10:29:04.288151Z",
     "shell.execute_reply": "2023-07-18T10:29:04.286939Z"
    },
    "executionInfo": {
     "elapsed": 19,
     "status": "ok",
     "timestamp": 1687784826990,
     "user": {
      "displayName": "Zainab Hashmi",
      "userId": "18109503910469851693"
     },
     "user_tz": -330
    },
    "id": "y9jiY5e8bZq3",
    "outputId": "6593ae59-4ec5-4d37-f997-06161aa1add8",
    "papermill": {
     "duration": 0.044468,
     "end_time": "2023-07-18T10:29:04.290889",
     "exception": false,
     "start_time": "2023-07-18T10:29:04.246421",
     "status": "completed"
    },
    "tags": []
   },
   "outputs": [
    {
     "data": {
      "text/html": [
       "<div>\n",
       "<style scoped>\n",
       "    .dataframe tbody tr th:only-of-type {\n",
       "        vertical-align: middle;\n",
       "    }\n",
       "\n",
       "    .dataframe tbody tr th {\n",
       "        vertical-align: top;\n",
       "    }\n",
       "\n",
       "    .dataframe thead th {\n",
       "        text-align: right;\n",
       "    }\n",
       "</style>\n",
       "<table border=\"1\" class=\"dataframe\">\n",
       "  <thead>\n",
       "    <tr style=\"text-align: right;\">\n",
       "      <th></th>\n",
       "      <th>title</th>\n",
       "      <th>dept</th>\n",
       "      <th>salary</th>\n",
       "      <th>race</th>\n",
       "      <th>gender</th>\n",
       "      <th>hire_date</th>\n",
       "    </tr>\n",
       "  </thead>\n",
       "  <tbody>\n",
       "    <tr>\n",
       "      <th>0</th>\n",
       "      <td>POLICE OFFICER</td>\n",
       "      <td>Houston Police Department-HPD</td>\n",
       "      <td>45279.0</td>\n",
       "      <td>White</td>\n",
       "      <td>Male</td>\n",
       "      <td>2015-02-03</td>\n",
       "    </tr>\n",
       "    <tr>\n",
       "      <th>1</th>\n",
       "      <td>ENGINEER/OPERATOR</td>\n",
       "      <td>Houston Fire Department (HFD)</td>\n",
       "      <td>63166.0</td>\n",
       "      <td>White</td>\n",
       "      <td>Male</td>\n",
       "      <td>1982-02-08</td>\n",
       "    </tr>\n",
       "    <tr>\n",
       "      <th>2</th>\n",
       "      <td>SENIOR POLICE OFFICER</td>\n",
       "      <td>Houston Police Department-HPD</td>\n",
       "      <td>66614.0</td>\n",
       "      <td>Black</td>\n",
       "      <td>Male</td>\n",
       "      <td>1984-11-26</td>\n",
       "    </tr>\n",
       "    <tr>\n",
       "      <th>3</th>\n",
       "      <td>ENGINEER</td>\n",
       "      <td>Public Works &amp; Engineering-PWE</td>\n",
       "      <td>71680.0</td>\n",
       "      <td>Asian</td>\n",
       "      <td>Male</td>\n",
       "      <td>2012-03-26</td>\n",
       "    </tr>\n",
       "    <tr>\n",
       "      <th>4</th>\n",
       "      <td>CARPENTER</td>\n",
       "      <td>Houston Airport System (HAS)</td>\n",
       "      <td>42390.0</td>\n",
       "      <td>White</td>\n",
       "      <td>Male</td>\n",
       "      <td>2013-11-04</td>\n",
       "    </tr>\n",
       "  </tbody>\n",
       "</table>\n",
       "</div>"
      ],
      "text/plain": [
       "                   title                            dept   salary   race  \\\n",
       "0         POLICE OFFICER   Houston Police Department-HPD  45279.0  White   \n",
       "1      ENGINEER/OPERATOR   Houston Fire Department (HFD)  63166.0  White   \n",
       "2  SENIOR POLICE OFFICER   Houston Police Department-HPD  66614.0  Black   \n",
       "3               ENGINEER  Public Works & Engineering-PWE  71680.0  Asian   \n",
       "4              CARPENTER    Houston Airport System (HAS)  42390.0  White   \n",
       "\n",
       "  gender   hire_date  \n",
       "0   Male  2015-02-03  \n",
       "1   Male  1982-02-08  \n",
       "2   Male  1984-11-26  \n",
       "3   Male  2012-03-26  \n",
       "4   Male  2013-11-04  "
      ]
     },
     "execution_count": 4,
     "metadata": {},
     "output_type": "execute_result"
    }
   ],
   "source": [
    "employee.head()"
   ]
  },
  {
   "cell_type": "code",
   "execution_count": 5,
   "id": "a07eab7e",
   "metadata": {
    "execution": {
     "iopub.execute_input": "2023-07-18T10:29:04.320510Z",
     "iopub.status.busy": "2023-07-18T10:29:04.319709Z",
     "iopub.status.idle": "2023-07-18T10:29:04.356496Z",
     "shell.execute_reply": "2023-07-18T10:29:04.355198Z"
    },
    "executionInfo": {
     "elapsed": 17,
     "status": "ok",
     "timestamp": 1687784826990,
     "user": {
      "displayName": "Zainab Hashmi",
      "userId": "18109503910469851693"
     },
     "user_tz": -330
    },
    "id": "c0Qw4vsJcMin",
    "outputId": "f4701e78-a855-40c9-d5f9-e6a8bbe227d9",
    "papermill": {
     "duration": 0.054731,
     "end_time": "2023-07-18T10:29:04.359324",
     "exception": false,
     "start_time": "2023-07-18T10:29:04.304593",
     "status": "completed"
    },
    "tags": []
   },
   "outputs": [
    {
     "data": {
      "text/html": [
       "<div>\n",
       "<style scoped>\n",
       "    .dataframe tbody tr th:only-of-type {\n",
       "        vertical-align: middle;\n",
       "    }\n",
       "\n",
       "    .dataframe tbody tr th {\n",
       "        vertical-align: top;\n",
       "    }\n",
       "\n",
       "    .dataframe thead th {\n",
       "        text-align: right;\n",
       "    }\n",
       "</style>\n",
       "<table border=\"1\" class=\"dataframe\">\n",
       "  <thead>\n",
       "    <tr style=\"text-align: right;\">\n",
       "      <th></th>\n",
       "      <th>title</th>\n",
       "      <th>year</th>\n",
       "      <th>color</th>\n",
       "      <th>content_rating</th>\n",
       "      <th>duration</th>\n",
       "      <th>director_name</th>\n",
       "      <th>director_fb</th>\n",
       "      <th>actor1</th>\n",
       "      <th>actor1_fb</th>\n",
       "      <th>actor2</th>\n",
       "      <th>...</th>\n",
       "      <th>actor3_fb</th>\n",
       "      <th>gross</th>\n",
       "      <th>genres</th>\n",
       "      <th>num_reviews</th>\n",
       "      <th>num_voted_users</th>\n",
       "      <th>plot_keywords</th>\n",
       "      <th>language</th>\n",
       "      <th>country</th>\n",
       "      <th>budget</th>\n",
       "      <th>imdb_score</th>\n",
       "    </tr>\n",
       "  </thead>\n",
       "  <tbody>\n",
       "    <tr>\n",
       "      <th>0</th>\n",
       "      <td>Avatar</td>\n",
       "      <td>2009.0</td>\n",
       "      <td>Color</td>\n",
       "      <td>PG-13</td>\n",
       "      <td>178.0</td>\n",
       "      <td>James Cameron</td>\n",
       "      <td>0.0</td>\n",
       "      <td>CCH Pounder</td>\n",
       "      <td>1000.0</td>\n",
       "      <td>Joel David Moore</td>\n",
       "      <td>...</td>\n",
       "      <td>855.0</td>\n",
       "      <td>760505847.0</td>\n",
       "      <td>Action|Adventure|Fantasy|Sci-Fi</td>\n",
       "      <td>723.0</td>\n",
       "      <td>886204</td>\n",
       "      <td>avatar|future|marine|native|paraplegic</td>\n",
       "      <td>English</td>\n",
       "      <td>USA</td>\n",
       "      <td>237000000.0</td>\n",
       "      <td>7.9</td>\n",
       "    </tr>\n",
       "    <tr>\n",
       "      <th>1</th>\n",
       "      <td>Pirates of the Caribbean: At World's End</td>\n",
       "      <td>2007.0</td>\n",
       "      <td>Color</td>\n",
       "      <td>PG-13</td>\n",
       "      <td>169.0</td>\n",
       "      <td>Gore Verbinski</td>\n",
       "      <td>563.0</td>\n",
       "      <td>Johnny Depp</td>\n",
       "      <td>40000.0</td>\n",
       "      <td>Orlando Bloom</td>\n",
       "      <td>...</td>\n",
       "      <td>1000.0</td>\n",
       "      <td>309404152.0</td>\n",
       "      <td>Action|Adventure|Fantasy</td>\n",
       "      <td>302.0</td>\n",
       "      <td>471220</td>\n",
       "      <td>goddess|marriage ceremony|marriage proposal|pi...</td>\n",
       "      <td>English</td>\n",
       "      <td>USA</td>\n",
       "      <td>300000000.0</td>\n",
       "      <td>7.1</td>\n",
       "    </tr>\n",
       "    <tr>\n",
       "      <th>2</th>\n",
       "      <td>Spectre</td>\n",
       "      <td>2015.0</td>\n",
       "      <td>Color</td>\n",
       "      <td>PG-13</td>\n",
       "      <td>148.0</td>\n",
       "      <td>Sam Mendes</td>\n",
       "      <td>0.0</td>\n",
       "      <td>Christoph Waltz</td>\n",
       "      <td>11000.0</td>\n",
       "      <td>Rory Kinnear</td>\n",
       "      <td>...</td>\n",
       "      <td>161.0</td>\n",
       "      <td>200074175.0</td>\n",
       "      <td>Action|Adventure|Thriller</td>\n",
       "      <td>602.0</td>\n",
       "      <td>275868</td>\n",
       "      <td>bomb|espionage|sequel|spy|terrorist</td>\n",
       "      <td>English</td>\n",
       "      <td>UK</td>\n",
       "      <td>245000000.0</td>\n",
       "      <td>6.8</td>\n",
       "    </tr>\n",
       "    <tr>\n",
       "      <th>3</th>\n",
       "      <td>The Dark Knight Rises</td>\n",
       "      <td>2012.0</td>\n",
       "      <td>Color</td>\n",
       "      <td>PG-13</td>\n",
       "      <td>164.0</td>\n",
       "      <td>Christopher Nolan</td>\n",
       "      <td>22000.0</td>\n",
       "      <td>Tom Hardy</td>\n",
       "      <td>27000.0</td>\n",
       "      <td>Christian Bale</td>\n",
       "      <td>...</td>\n",
       "      <td>23000.0</td>\n",
       "      <td>448130642.0</td>\n",
       "      <td>Action|Thriller</td>\n",
       "      <td>813.0</td>\n",
       "      <td>1144337</td>\n",
       "      <td>deception|imprisonment|lawlessness|police offi...</td>\n",
       "      <td>English</td>\n",
       "      <td>USA</td>\n",
       "      <td>250000000.0</td>\n",
       "      <td>8.5</td>\n",
       "    </tr>\n",
       "    <tr>\n",
       "      <th>4</th>\n",
       "      <td>Star Wars: Episode VII - The Force Awakens</td>\n",
       "      <td>NaN</td>\n",
       "      <td>NaN</td>\n",
       "      <td>NaN</td>\n",
       "      <td>NaN</td>\n",
       "      <td>Doug Walker</td>\n",
       "      <td>131.0</td>\n",
       "      <td>Doug Walker</td>\n",
       "      <td>131.0</td>\n",
       "      <td>Rob Walker</td>\n",
       "      <td>...</td>\n",
       "      <td>NaN</td>\n",
       "      <td>NaN</td>\n",
       "      <td>Documentary</td>\n",
       "      <td>NaN</td>\n",
       "      <td>8</td>\n",
       "      <td>NaN</td>\n",
       "      <td>NaN</td>\n",
       "      <td>NaN</td>\n",
       "      <td>NaN</td>\n",
       "      <td>7.1</td>\n",
       "    </tr>\n",
       "  </tbody>\n",
       "</table>\n",
       "<p>5 rows × 22 columns</p>\n",
       "</div>"
      ],
      "text/plain": [
       "                                        title    year  color content_rating  \\\n",
       "0                                      Avatar  2009.0  Color          PG-13   \n",
       "1    Pirates of the Caribbean: At World's End  2007.0  Color          PG-13   \n",
       "2                                     Spectre  2015.0  Color          PG-13   \n",
       "3                       The Dark Knight Rises  2012.0  Color          PG-13   \n",
       "4  Star Wars: Episode VII - The Force Awakens     NaN    NaN            NaN   \n",
       "\n",
       "   duration      director_name  director_fb           actor1  actor1_fb  \\\n",
       "0     178.0      James Cameron          0.0      CCH Pounder     1000.0   \n",
       "1     169.0     Gore Verbinski        563.0      Johnny Depp    40000.0   \n",
       "2     148.0         Sam Mendes          0.0  Christoph Waltz    11000.0   \n",
       "3     164.0  Christopher Nolan      22000.0        Tom Hardy    27000.0   \n",
       "4       NaN        Doug Walker        131.0      Doug Walker      131.0   \n",
       "\n",
       "             actor2  ...  actor3_fb        gross  \\\n",
       "0  Joel David Moore  ...      855.0  760505847.0   \n",
       "1     Orlando Bloom  ...     1000.0  309404152.0   \n",
       "2      Rory Kinnear  ...      161.0  200074175.0   \n",
       "3    Christian Bale  ...    23000.0  448130642.0   \n",
       "4        Rob Walker  ...        NaN          NaN   \n",
       "\n",
       "                            genres  num_reviews num_voted_users  \\\n",
       "0  Action|Adventure|Fantasy|Sci-Fi        723.0          886204   \n",
       "1         Action|Adventure|Fantasy        302.0          471220   \n",
       "2        Action|Adventure|Thriller        602.0          275868   \n",
       "3                  Action|Thriller        813.0         1144337   \n",
       "4                      Documentary          NaN               8   \n",
       "\n",
       "                                       plot_keywords  language country  \\\n",
       "0             avatar|future|marine|native|paraplegic   English     USA   \n",
       "1  goddess|marriage ceremony|marriage proposal|pi...   English     USA   \n",
       "2                bomb|espionage|sequel|spy|terrorist   English      UK   \n",
       "3  deception|imprisonment|lawlessness|police offi...   English     USA   \n",
       "4                                                NaN       NaN     NaN   \n",
       "\n",
       "        budget imdb_score  \n",
       "0  237000000.0        7.9  \n",
       "1  300000000.0        7.1  \n",
       "2  245000000.0        6.8  \n",
       "3  250000000.0        8.5  \n",
       "4          NaN        7.1  \n",
       "\n",
       "[5 rows x 22 columns]"
      ]
     },
     "execution_count": 5,
     "metadata": {},
     "output_type": "execute_result"
    }
   ],
   "source": [
    "movie.head()"
   ]
  },
  {
   "cell_type": "code",
   "execution_count": 6,
   "id": "043356c3",
   "metadata": {
    "execution": {
     "iopub.execute_input": "2023-07-18T10:29:04.389789Z",
     "iopub.status.busy": "2023-07-18T10:29:04.388683Z",
     "iopub.status.idle": "2023-07-18T10:29:04.418177Z",
     "shell.execute_reply": "2023-07-18T10:29:04.417015Z"
    },
    "executionInfo": {
     "elapsed": 845,
     "status": "ok",
     "timestamp": 1687784827820,
     "user": {
      "displayName": "Zainab Hashmi",
      "userId": "18109503910469851693"
     },
     "user_tz": -330
    },
    "id": "b-WI5i8mcSOk",
    "outputId": "c26413d1-7bc2-4c71-b0de-107448bef883",
    "papermill": {
     "duration": 0.047608,
     "end_time": "2023-07-18T10:29:04.420882",
     "exception": false,
     "start_time": "2023-07-18T10:29:04.373274",
     "status": "completed"
    },
    "tags": []
   },
   "outputs": [
    {
     "name": "stdout",
     "output_type": "stream",
     "text": [
      "<class 'pandas.core.frame.DataFrame'>\n",
      "RangeIndex: 1653 entries, 0 to 1652\n",
      "Data columns (total 6 columns):\n",
      " #   Column     Non-Null Count  Dtype  \n",
      "---  ------     --------------  -----  \n",
      " 0   title      1653 non-null   object \n",
      " 1   dept       1653 non-null   object \n",
      " 2   salary     1551 non-null   float64\n",
      " 3   race       1633 non-null   object \n",
      " 4   gender     1653 non-null   object \n",
      " 5   hire_date  1653 non-null   object \n",
      "dtypes: float64(1), object(5)\n",
      "memory usage: 77.6+ KB\n"
     ]
    }
   ],
   "source": [
    "employee.info()"
   ]
  },
  {
   "cell_type": "code",
   "execution_count": 7,
   "id": "1ea4cabd",
   "metadata": {
    "execution": {
     "iopub.execute_input": "2023-07-18T10:29:04.451424Z",
     "iopub.status.busy": "2023-07-18T10:29:04.450728Z",
     "iopub.status.idle": "2023-07-18T10:29:04.481319Z",
     "shell.execute_reply": "2023-07-18T10:29:04.480220Z"
    },
    "executionInfo": {
     "elapsed": 849,
     "status": "ok",
     "timestamp": 1687784827826,
     "user": {
      "displayName": "Zainab Hashmi",
      "userId": "18109503910469851693"
     },
     "user_tz": -330
    },
    "id": "OCNsoNZzai74",
    "outputId": "9897752f-8c1c-43e5-ce9f-5abb9ccfd878",
    "papermill": {
     "duration": 0.048751,
     "end_time": "2023-07-18T10:29:04.483883",
     "exception": false,
     "start_time": "2023-07-18T10:29:04.435132",
     "status": "completed"
    },
    "tags": []
   },
   "outputs": [
    {
     "name": "stdout",
     "output_type": "stream",
     "text": [
      "<class 'pandas.core.frame.DataFrame'>\n",
      "RangeIndex: 4916 entries, 0 to 4915\n",
      "Data columns (total 22 columns):\n",
      " #   Column           Non-Null Count  Dtype  \n",
      "---  ------           --------------  -----  \n",
      " 0   title            4916 non-null   object \n",
      " 1   year             4810 non-null   float64\n",
      " 2   color            4897 non-null   object \n",
      " 3   content_rating   4616 non-null   object \n",
      " 4   duration         4901 non-null   float64\n",
      " 5   director_name    4814 non-null   object \n",
      " 6   director_fb      4814 non-null   float64\n",
      " 7   actor1           4909 non-null   object \n",
      " 8   actor1_fb        4909 non-null   float64\n",
      " 9   actor2           4903 non-null   object \n",
      " 10  actor2_fb        4903 non-null   float64\n",
      " 11  actor3           4893 non-null   object \n",
      " 12  actor3_fb        4893 non-null   float64\n",
      " 13  gross            4054 non-null   float64\n",
      " 14  genres           4916 non-null   object \n",
      " 15  num_reviews      4867 non-null   float64\n",
      " 16  num_voted_users  4916 non-null   int64  \n",
      " 17  plot_keywords    4764 non-null   object \n",
      " 18  language         4904 non-null   object \n",
      " 19  country          4911 non-null   object \n",
      " 20  budget           4432 non-null   float64\n",
      " 21  imdb_score       4916 non-null   float64\n",
      "dtypes: float64(10), int64(1), object(11)\n",
      "memory usage: 845.1+ KB\n"
     ]
    }
   ],
   "source": [
    "movie.info()"
   ]
  },
  {
   "cell_type": "code",
   "execution_count": 8,
   "id": "50322a8c",
   "metadata": {
    "execution": {
     "iopub.execute_input": "2023-07-18T10:29:04.513798Z",
     "iopub.status.busy": "2023-07-18T10:29:04.513386Z",
     "iopub.status.idle": "2023-07-18T10:29:04.525976Z",
     "shell.execute_reply": "2023-07-18T10:29:04.524867Z"
    },
    "executionInfo": {
     "elapsed": 41,
     "status": "ok",
     "timestamp": 1687784827827,
     "user": {
      "displayName": "Zainab Hashmi",
      "userId": "18109503910469851693"
     },
     "user_tz": -330
    },
    "id": "BtjCCzLncYaj",
    "outputId": "04c989cf-bb3c-4220-c8f6-dccfe66adbec",
    "papermill": {
     "duration": 0.030771,
     "end_time": "2023-07-18T10:29:04.528672",
     "exception": false,
     "start_time": "2023-07-18T10:29:04.497901",
     "status": "completed"
    },
    "tags": []
   },
   "outputs": [
    {
     "data": {
      "text/plain": [
       "title          0\n",
       "dept           0\n",
       "salary       102\n",
       "race          20\n",
       "gender         0\n",
       "hire_date      0\n",
       "dtype: int64"
      ]
     },
     "execution_count": 8,
     "metadata": {},
     "output_type": "execute_result"
    }
   ],
   "source": [
    "employee.isnull().sum()"
   ]
  },
  {
   "cell_type": "code",
   "execution_count": 9,
   "id": "b34da959",
   "metadata": {
    "execution": {
     "iopub.execute_input": "2023-07-18T10:29:04.559615Z",
     "iopub.status.busy": "2023-07-18T10:29:04.559200Z",
     "iopub.status.idle": "2023-07-18T10:29:04.586274Z",
     "shell.execute_reply": "2023-07-18T10:29:04.585300Z"
    },
    "executionInfo": {
     "elapsed": 37,
     "status": "ok",
     "timestamp": 1687784827827,
     "user": {
      "displayName": "Zainab Hashmi",
      "userId": "18109503910469851693"
     },
     "user_tz": -330
    },
    "id": "lP9Zb6BMcc9h",
    "outputId": "5dca9190-5ac4-4ff0-fe72-4644db0c867d",
    "papermill": {
     "duration": 0.045138,
     "end_time": "2023-07-18T10:29:04.588585",
     "exception": false,
     "start_time": "2023-07-18T10:29:04.543447",
     "status": "completed"
    },
    "tags": []
   },
   "outputs": [
    {
     "data": {
      "text/plain": [
       "title                0\n",
       "year               106\n",
       "color               19\n",
       "content_rating     300\n",
       "duration            15\n",
       "director_name      102\n",
       "director_fb        102\n",
       "actor1               7\n",
       "actor1_fb            7\n",
       "actor2              13\n",
       "actor2_fb           13\n",
       "actor3              23\n",
       "actor3_fb           23\n",
       "gross              862\n",
       "genres               0\n",
       "num_reviews         49\n",
       "num_voted_users      0\n",
       "plot_keywords      152\n",
       "language            12\n",
       "country              5\n",
       "budget             484\n",
       "imdb_score           0\n",
       "dtype: int64"
      ]
     },
     "execution_count": 9,
     "metadata": {},
     "output_type": "execute_result"
    }
   ],
   "source": [
    "movie.isnull().sum()"
   ]
  },
  {
   "cell_type": "code",
   "execution_count": 10,
   "id": "ee9d5672",
   "metadata": {
    "execution": {
     "iopub.execute_input": "2023-07-18T10:29:04.619257Z",
     "iopub.status.busy": "2023-07-18T10:29:04.618858Z",
     "iopub.status.idle": "2023-07-18T10:29:04.641372Z",
     "shell.execute_reply": "2023-07-18T10:29:04.640161Z"
    },
    "executionInfo": {
     "elapsed": 35,
     "status": "ok",
     "timestamp": 1687784827827,
     "user": {
      "displayName": "Zainab Hashmi",
      "userId": "18109503910469851693"
     },
     "user_tz": -330
    },
    "id": "bK-rUKNbzNu9",
    "outputId": "7eb27ee5-8616-468c-df91-a140df22a7ec",
    "papermill": {
     "duration": 0.041038,
     "end_time": "2023-07-18T10:29:04.644145",
     "exception": false,
     "start_time": "2023-07-18T10:29:04.603107",
     "status": "completed"
    },
    "tags": []
   },
   "outputs": [
    {
     "data": {
      "text/html": [
       "<div>\n",
       "<style scoped>\n",
       "    .dataframe tbody tr th:only-of-type {\n",
       "        vertical-align: middle;\n",
       "    }\n",
       "\n",
       "    .dataframe tbody tr th {\n",
       "        vertical-align: top;\n",
       "    }\n",
       "\n",
       "    .dataframe thead th {\n",
       "        text-align: right;\n",
       "    }\n",
       "</style>\n",
       "<table border=\"1\" class=\"dataframe\">\n",
       "  <thead>\n",
       "    <tr style=\"text-align: right;\">\n",
       "      <th></th>\n",
       "      <th>count</th>\n",
       "      <th>mean</th>\n",
       "      <th>std</th>\n",
       "      <th>min</th>\n",
       "      <th>25%</th>\n",
       "      <th>50%</th>\n",
       "      <th>75%</th>\n",
       "      <th>max</th>\n",
       "    </tr>\n",
       "  </thead>\n",
       "  <tbody>\n",
       "    <tr>\n",
       "      <th>salary</th>\n",
       "      <td>1551.0</td>\n",
       "      <td>56094.973565</td>\n",
       "      <td>20346.10328</td>\n",
       "      <td>24960.0</td>\n",
       "      <td>41932.5</td>\n",
       "      <td>55461.0</td>\n",
       "      <td>66614.0</td>\n",
       "      <td>210588.0</td>\n",
       "    </tr>\n",
       "  </tbody>\n",
       "</table>\n",
       "</div>"
      ],
      "text/plain": [
       "         count          mean          std      min      25%      50%      75%  \\\n",
       "salary  1551.0  56094.973565  20346.10328  24960.0  41932.5  55461.0  66614.0   \n",
       "\n",
       "             max  \n",
       "salary  210588.0  "
      ]
     },
     "execution_count": 10,
     "metadata": {},
     "output_type": "execute_result"
    }
   ],
   "source": [
    "employee.describe().T"
   ]
  },
  {
   "cell_type": "code",
   "execution_count": 11,
   "id": "931c51f2",
   "metadata": {
    "execution": {
     "iopub.execute_input": "2023-07-18T10:29:04.676524Z",
     "iopub.status.busy": "2023-07-18T10:29:04.675172Z",
     "iopub.status.idle": "2023-07-18T10:29:04.731935Z",
     "shell.execute_reply": "2023-07-18T10:29:04.731018Z"
    },
    "executionInfo": {
     "elapsed": 32,
     "status": "ok",
     "timestamp": 1687784827828,
     "user": {
      "displayName": "Zainab Hashmi",
      "userId": "18109503910469851693"
     },
     "user_tz": -330
    },
    "id": "VqqYPtMBz8eh",
    "outputId": "c4d0ed80-be7f-4991-9abc-f8cac76c1b50",
    "papermill": {
     "duration": 0.075748,
     "end_time": "2023-07-18T10:29:04.734844",
     "exception": false,
     "start_time": "2023-07-18T10:29:04.659096",
     "status": "completed"
    },
    "tags": []
   },
   "outputs": [
    {
     "data": {
      "text/html": [
       "<div>\n",
       "<style scoped>\n",
       "    .dataframe tbody tr th:only-of-type {\n",
       "        vertical-align: middle;\n",
       "    }\n",
       "\n",
       "    .dataframe tbody tr th {\n",
       "        vertical-align: top;\n",
       "    }\n",
       "\n",
       "    .dataframe thead th {\n",
       "        text-align: right;\n",
       "    }\n",
       "</style>\n",
       "<table border=\"1\" class=\"dataframe\">\n",
       "  <thead>\n",
       "    <tr style=\"text-align: right;\">\n",
       "      <th></th>\n",
       "      <th>count</th>\n",
       "      <th>mean</th>\n",
       "      <th>std</th>\n",
       "      <th>min</th>\n",
       "      <th>25%</th>\n",
       "      <th>50%</th>\n",
       "      <th>75%</th>\n",
       "      <th>max</th>\n",
       "    </tr>\n",
       "  </thead>\n",
       "  <tbody>\n",
       "    <tr>\n",
       "      <th>year</th>\n",
       "      <td>4810.0</td>\n",
       "      <td>2.002448e+03</td>\n",
       "      <td>1.245398e+01</td>\n",
       "      <td>1916.0</td>\n",
       "      <td>1999.00</td>\n",
       "      <td>2005.0</td>\n",
       "      <td>2011.00</td>\n",
       "      <td>2.016000e+03</td>\n",
       "    </tr>\n",
       "    <tr>\n",
       "      <th>duration</th>\n",
       "      <td>4901.0</td>\n",
       "      <td>1.070908e+02</td>\n",
       "      <td>2.528602e+01</td>\n",
       "      <td>7.0</td>\n",
       "      <td>93.00</td>\n",
       "      <td>103.0</td>\n",
       "      <td>118.00</td>\n",
       "      <td>5.110000e+02</td>\n",
       "    </tr>\n",
       "    <tr>\n",
       "      <th>director_fb</th>\n",
       "      <td>4814.0</td>\n",
       "      <td>6.910145e+02</td>\n",
       "      <td>2.832954e+03</td>\n",
       "      <td>0.0</td>\n",
       "      <td>7.00</td>\n",
       "      <td>48.0</td>\n",
       "      <td>189.75</td>\n",
       "      <td>2.300000e+04</td>\n",
       "    </tr>\n",
       "    <tr>\n",
       "      <th>actor1_fb</th>\n",
       "      <td>4909.0</td>\n",
       "      <td>6.494488e+03</td>\n",
       "      <td>1.510699e+04</td>\n",
       "      <td>0.0</td>\n",
       "      <td>607.00</td>\n",
       "      <td>982.0</td>\n",
       "      <td>11000.00</td>\n",
       "      <td>6.400000e+05</td>\n",
       "    </tr>\n",
       "    <tr>\n",
       "      <th>actor2_fb</th>\n",
       "      <td>4903.0</td>\n",
       "      <td>1.621924e+03</td>\n",
       "      <td>4.011300e+03</td>\n",
       "      <td>0.0</td>\n",
       "      <td>277.00</td>\n",
       "      <td>593.0</td>\n",
       "      <td>912.00</td>\n",
       "      <td>1.370000e+05</td>\n",
       "    </tr>\n",
       "    <tr>\n",
       "      <th>actor3_fb</th>\n",
       "      <td>4893.0</td>\n",
       "      <td>6.312763e+02</td>\n",
       "      <td>1.625875e+03</td>\n",
       "      <td>0.0</td>\n",
       "      <td>132.00</td>\n",
       "      <td>366.0</td>\n",
       "      <td>633.00</td>\n",
       "      <td>2.300000e+04</td>\n",
       "    </tr>\n",
       "    <tr>\n",
       "      <th>gross</th>\n",
       "      <td>4054.0</td>\n",
       "      <td>4.764451e+07</td>\n",
       "      <td>6.737255e+07</td>\n",
       "      <td>162.0</td>\n",
       "      <td>5019656.25</td>\n",
       "      <td>25043962.0</td>\n",
       "      <td>61108412.75</td>\n",
       "      <td>7.605058e+08</td>\n",
       "    </tr>\n",
       "    <tr>\n",
       "      <th>num_reviews</th>\n",
       "      <td>4867.0</td>\n",
       "      <td>1.379889e+02</td>\n",
       "      <td>1.202394e+02</td>\n",
       "      <td>1.0</td>\n",
       "      <td>49.00</td>\n",
       "      <td>108.0</td>\n",
       "      <td>191.00</td>\n",
       "      <td>8.130000e+02</td>\n",
       "    </tr>\n",
       "    <tr>\n",
       "      <th>num_voted_users</th>\n",
       "      <td>4916.0</td>\n",
       "      <td>8.264492e+04</td>\n",
       "      <td>1.383222e+05</td>\n",
       "      <td>5.0</td>\n",
       "      <td>8361.75</td>\n",
       "      <td>33132.5</td>\n",
       "      <td>93772.75</td>\n",
       "      <td>1.689764e+06</td>\n",
       "    </tr>\n",
       "    <tr>\n",
       "      <th>budget</th>\n",
       "      <td>4432.0</td>\n",
       "      <td>3.654749e+07</td>\n",
       "      <td>1.002427e+08</td>\n",
       "      <td>218.0</td>\n",
       "      <td>6000000.00</td>\n",
       "      <td>19850000.0</td>\n",
       "      <td>43000000.00</td>\n",
       "      <td>4.200000e+09</td>\n",
       "    </tr>\n",
       "    <tr>\n",
       "      <th>imdb_score</th>\n",
       "      <td>4916.0</td>\n",
       "      <td>6.437429e+00</td>\n",
       "      <td>1.127802e+00</td>\n",
       "      <td>1.6</td>\n",
       "      <td>5.80</td>\n",
       "      <td>6.6</td>\n",
       "      <td>7.20</td>\n",
       "      <td>9.500000e+00</td>\n",
       "    </tr>\n",
       "  </tbody>\n",
       "</table>\n",
       "</div>"
      ],
      "text/plain": [
       "                  count          mean           std     min         25%  \\\n",
       "year             4810.0  2.002448e+03  1.245398e+01  1916.0     1999.00   \n",
       "duration         4901.0  1.070908e+02  2.528602e+01     7.0       93.00   \n",
       "director_fb      4814.0  6.910145e+02  2.832954e+03     0.0        7.00   \n",
       "actor1_fb        4909.0  6.494488e+03  1.510699e+04     0.0      607.00   \n",
       "actor2_fb        4903.0  1.621924e+03  4.011300e+03     0.0      277.00   \n",
       "actor3_fb        4893.0  6.312763e+02  1.625875e+03     0.0      132.00   \n",
       "gross            4054.0  4.764451e+07  6.737255e+07   162.0  5019656.25   \n",
       "num_reviews      4867.0  1.379889e+02  1.202394e+02     1.0       49.00   \n",
       "num_voted_users  4916.0  8.264492e+04  1.383222e+05     5.0     8361.75   \n",
       "budget           4432.0  3.654749e+07  1.002427e+08   218.0  6000000.00   \n",
       "imdb_score       4916.0  6.437429e+00  1.127802e+00     1.6        5.80   \n",
       "\n",
       "                        50%          75%           max  \n",
       "year                 2005.0      2011.00  2.016000e+03  \n",
       "duration              103.0       118.00  5.110000e+02  \n",
       "director_fb            48.0       189.75  2.300000e+04  \n",
       "actor1_fb             982.0     11000.00  6.400000e+05  \n",
       "actor2_fb             593.0       912.00  1.370000e+05  \n",
       "actor3_fb             366.0       633.00  2.300000e+04  \n",
       "gross            25043962.0  61108412.75  7.605058e+08  \n",
       "num_reviews           108.0       191.00  8.130000e+02  \n",
       "num_voted_users     33132.5     93772.75  1.689764e+06  \n",
       "budget           19850000.0  43000000.00  4.200000e+09  \n",
       "imdb_score              6.6         7.20  9.500000e+00  "
      ]
     },
     "execution_count": 11,
     "metadata": {},
     "output_type": "execute_result"
    }
   ],
   "source": [
    "movie.describe().T"
   ]
  },
  {
   "cell_type": "markdown",
   "id": "670b2740",
   "metadata": {
    "id": "B2Pb787hZ26s",
    "papermill": {
     "duration": 0.01466,
     "end_time": "2023-07-18T10:29:04.764817",
     "exception": false,
     "start_time": "2023-07-18T10:29:04.750157",
     "status": "completed"
    },
    "tags": []
   },
   "source": [
    "**1.In movie.csv, Select the year,content rating and duration for all movies between \"The Lion king\" and \"The Little prince\".**"
   ]
  },
  {
   "cell_type": "code",
   "execution_count": 12,
   "id": "580125f3",
   "metadata": {
    "execution": {
     "iopub.execute_input": "2023-07-18T10:29:04.797454Z",
     "iopub.status.busy": "2023-07-18T10:29:04.796401Z",
     "iopub.status.idle": "2023-07-18T10:29:04.811436Z",
     "shell.execute_reply": "2023-07-18T10:29:04.810289Z"
    },
    "executionInfo": {
     "elapsed": 31,
     "status": "ok",
     "timestamp": 1687784827828,
     "user": {
      "displayName": "Zainab Hashmi",
      "userId": "18109503910469851693"
     },
     "user_tz": -330
    },
    "id": "0BcSEOv1qlmf",
    "outputId": "f5f6df84-ab42-4abd-da88-fdad4726eb5a",
    "papermill": {
     "duration": 0.034042,
     "end_time": "2023-07-18T10:29:04.814042",
     "exception": false,
     "start_time": "2023-07-18T10:29:04.780000",
     "status": "completed"
    },
    "tags": []
   },
   "outputs": [
    {
     "name": "stdout",
     "output_type": "stream",
     "text": [
      "       year content_rating  duration\n",
      "503  1994.0              G      73.0\n",
      "504  2012.0             PG      94.0\n",
      "505  2013.0             PG      95.0\n",
      "506  2002.0              R     124.0\n",
      "507  2004.0          PG-13     136.0\n",
      "508  2011.0             PG      91.0\n",
      "509  2003.0          PG-13     107.0\n",
      "510  2015.0             PG     108.0\n"
     ]
    }
   ],
   "source": [
    "lion_king_index = movie[movie['title'] == 'The Lion King'].index[0]\n",
    "little_prince_index = movie[movie['title'] == 'The Little Prince'].index[0]\n",
    "\n",
    "selected_movie = movie.loc[lion_king_index:little_prince_index, ['year', 'content_rating', 'duration']]\n",
    "\n",
    "print(selected_movie)"
   ]
  },
  {
   "cell_type": "code",
   "execution_count": 13,
   "id": "0dd421c2",
   "metadata": {
    "execution": {
     "iopub.execute_input": "2023-07-18T10:29:04.847259Z",
     "iopub.status.busy": "2023-07-18T10:29:04.846866Z",
     "iopub.status.idle": "2023-07-18T10:29:04.853081Z",
     "shell.execute_reply": "2023-07-18T10:29:04.851958Z"
    },
    "executionInfo": {
     "elapsed": 29,
     "status": "ok",
     "timestamp": 1687784827829,
     "user": {
      "displayName": "Zainab Hashmi",
      "userId": "18109503910469851693"
     },
     "user_tz": -330
    },
    "id": "fL7OQrzHsP8C",
    "outputId": "0cf248c6-4320-42db-8487-0ec1861ef0d9",
    "papermill": {
     "duration": 0.026518,
     "end_time": "2023-07-18T10:29:04.856553",
     "exception": false,
     "start_time": "2023-07-18T10:29:04.830035",
     "status": "completed"
    },
    "tags": []
   },
   "outputs": [
    {
     "name": "stdout",
     "output_type": "stream",
     "text": [
      "503                          The Lion King\n",
      "504       Journey 2: The Mysterious Island\n",
      "505    Cloudy with a Chance of Meatballs 2\n",
      "506                             Red Dragon\n",
      "507                                Hidalgo\n",
      "508                          Jack and Jill\n",
      "509                       2 Fast 2 Furious\n",
      "510                      The Little Prince\n",
      "Name: title, dtype: object\n"
     ]
    }
   ],
   "source": [
    "# movie names between index 503 to 510\n",
    "a = movie.loc[503:510]\n",
    "print(a['title'])"
   ]
  },
  {
   "cell_type": "markdown",
   "id": "d845f720",
   "metadata": {
    "id": "rNFkAutqrGQZ",
    "papermill": {
     "duration": 0.014785,
     "end_time": "2023-07-18T10:29:04.886749",
     "exception": false,
     "start_time": "2023-07-18T10:29:04.871964",
     "status": "completed"
    },
    "tags": []
   },
   "source": [
    "**2. In employee.csv , Select every 100th row starting from the first row.**"
   ]
  },
  {
   "cell_type": "code",
   "execution_count": 14,
   "id": "faa6b564",
   "metadata": {
    "execution": {
     "iopub.execute_input": "2023-07-18T10:29:04.919070Z",
     "iopub.status.busy": "2023-07-18T10:29:04.918656Z",
     "iopub.status.idle": "2023-07-18T10:29:04.928797Z",
     "shell.execute_reply": "2023-07-18T10:29:04.927626Z"
    },
    "executionInfo": {
     "elapsed": 27,
     "status": "ok",
     "timestamp": 1687784827829,
     "user": {
      "displayName": "Zainab Hashmi",
      "userId": "18109503910469851693"
     },
     "user_tz": -330
    },
    "id": "xMDaMLiHvi0Z",
    "outputId": "eb006ae5-9b09-4ec9-8d36-51159d7e34fd",
    "papermill": {
     "duration": 0.029839,
     "end_time": "2023-07-18T10:29:04.931868",
     "exception": false,
     "start_time": "2023-07-18T10:29:04.902029",
     "status": "completed"
    },
    "tags": []
   },
   "outputs": [
    {
     "name": "stdout",
     "output_type": "stream",
     "text": [
      "                                       title                            dept  \\\n",
      "0                             POLICE OFFICER   Houston Police Department-HPD   \n",
      "100               FIRE FIGHTER, PROBATIONARY   Houston Fire Department (HFD)   \n",
      "200        TECHNICAL  HARDWARE  ANALYST  III   Houston Police Department-HPD   \n",
      "300                           POLICE OFFICER   Houston Police Department-HPD   \n",
      "400                        ENGINEER/OPERATOR   Houston Fire Department (HFD)   \n",
      "500        SENIOR INVENTORY MANAGEMENT CLERK  Public Works & Engineering-PWE   \n",
      "600                           POLICE OFFICER   Houston Police Department-HPD   \n",
      "700   SURVEILLANCE INVESTIGATOR-EPIDEMIOLOGY         Health & Human Services   \n",
      "800            SENIOR POLICE SERVICE OFFICER   Houston Police Department-HPD   \n",
      "900                             FIRE FIGHTER   Houston Fire Department (HFD)   \n",
      "1000                SENIOR COMMUNITY LIAISON   Houston Police Department-HPD   \n",
      "1100              SENIOR DATA ENTRY OPERATOR  Public Works & Engineering-PWE   \n",
      "1200                           STAFF ANALYST    Houston Airport System (HAS)   \n",
      "1300                            FIRE FIGHTER   Houston Fire Department (HFD)   \n",
      "1400                        FIELD SUPERVISOR              Parks & Recreation   \n",
      "1500                       POLICE LIEUTENANT   Houston Police Department-HPD   \n",
      "1600                          POLICE OFFICER   Houston Police Department-HPD   \n",
      "\n",
      "       salary      race  gender   hire_date  \n",
      "0     45279.0     White    Male  2015-02-03  \n",
      "100   40170.0     Black    Male  2015-07-20  \n",
      "200   62338.0     Asian    Male  2013-06-03  \n",
      "300   50621.0     White    Male  2010-05-24  \n",
      "400   61921.0     White    Male  2006-09-11  \n",
      "500   29765.0     White    Male  2003-09-02  \n",
      "600   52514.0  Hispanic    Male  2009-06-22  \n",
      "700   46384.0     Black  Female  1991-12-30  \n",
      "800   30888.0     White    Male  2005-09-12  \n",
      "900   55437.0     White    Male  2002-05-20  \n",
      "1000  65416.0     White    Male  2007-11-05  \n",
      "1100  29453.0  Hispanic  Female  2007-10-22  \n",
      "1200  73065.0  Hispanic    Male  2002-03-05  \n",
      "1300  43528.0  Hispanic    Male  2014-09-27  \n",
      "1400  38147.0     Black    Male  1999-11-16  \n",
      "1500  91181.0     White    Male  1994-12-30  \n",
      "1600  55461.0     White    Male  2009-05-04  \n"
     ]
    }
   ],
   "source": [
    "selected_rows = employee.iloc[::100]\n",
    "print(selected_rows)"
   ]
  },
  {
   "cell_type": "markdown",
   "id": "46ee9016",
   "metadata": {
    "id": "yzSJ3dcgvrm6",
    "papermill": {
     "duration": 0.015686,
     "end_time": "2023-07-18T10:29:04.964682",
     "exception": false,
     "start_time": "2023-07-18T10:29:04.948996",
     "status": "completed"
    },
    "tags": []
   },
   "source": [
    "**3. In employee.csv, Return the first 10 employee hired from March 1, 2010.**"
   ]
  },
  {
   "cell_type": "code",
   "execution_count": 15,
   "id": "c3ddc5bd",
   "metadata": {
    "execution": {
     "iopub.execute_input": "2023-07-18T10:29:04.997260Z",
     "iopub.status.busy": "2023-07-18T10:29:04.996861Z",
     "iopub.status.idle": "2023-07-18T10:29:05.007894Z",
     "shell.execute_reply": "2023-07-18T10:29:05.006703Z"
    },
    "executionInfo": {
     "elapsed": 27,
     "status": "ok",
     "timestamp": 1687784827830,
     "user": {
      "displayName": "Zainab Hashmi",
      "userId": "18109503910469851693"
     },
     "user_tz": -330
    },
    "id": "7lXmwKJQw1KI",
    "outputId": "d152f73a-4bfe-479e-ae0a-5d5e3bda05fe",
    "papermill": {
     "duration": 0.03059,
     "end_time": "2023-07-18T10:29:05.010562",
     "exception": false,
     "start_time": "2023-07-18T10:29:04.979972",
     "status": "completed"
    },
    "tags": []
   },
   "outputs": [
    {
     "name": "stdout",
     "output_type": "stream",
     "text": [
      "                                title                            dept  \\\n",
      "0                      POLICE OFFICER   Houston Police Department-HPD   \n",
      "3                            ENGINEER  Public Works & Engineering-PWE   \n",
      "4                           CARPENTER    Houston Airport System (HAS)   \n",
      "6      AIRPORT OPERATIONS COORDINATOR    Houston Airport System (HAS)   \n",
      "9   CUSTOMER SERVICE REPRESENTATIVE I  Public Works & Engineering-PWE   \n",
      "18                          INSPECTOR  Public Works & Engineering-PWE   \n",
      "20                     POLICE OFFICER   Houston Police Department-HPD   \n",
      "25                     UTILITY WORKER  Public Works & Engineering-PWE   \n",
      "27               FIRE FIGHTER TRAINEE   Houston Fire Department (HFD)   \n",
      "34                       FIRE FIGHTER   Houston Fire Department (HFD)   \n",
      "\n",
      "     salary      race gender   hire_date  \n",
      "0   45279.0     White   Male  2015-02-03  \n",
      "3   71680.0     Asian   Male  2012-03-26  \n",
      "4   42390.0     White   Male  2013-11-04  \n",
      "6   44616.0       NaN   Male  2016-03-14  \n",
      "9   30347.0     Black   Male  2015-11-16  \n",
      "18  43264.0     Black   Male  2015-01-05  \n",
      "20  52514.0     Black   Male  2010-03-29  \n",
      "25  29557.0     Black   Male  2014-01-21  \n",
      "27  28024.0       NaN   Male  2016-03-14  \n",
      "34  43528.0  Hispanic   Male  2014-06-21  \n"
     ]
    }
   ],
   "source": [
    "selected_employee = employee[employee['hire_date'] >= '2010-03-01'].head(10)\n",
    "print(selected_employee)"
   ]
  },
  {
   "cell_type": "markdown",
   "id": "afdd99de",
   "metadata": {
    "id": "BiacgoPrwL4c",
    "papermill": {
     "duration": 0.016515,
     "end_time": "2023-07-18T10:29:05.042758",
     "exception": false,
     "start_time": "2023-07-18T10:29:05.026243",
     "status": "completed"
    },
    "tags": []
   },
   "source": [
    "**4. Return the top employee of each department by salary, just return department, title and salary.**"
   ]
  },
  {
   "cell_type": "code",
   "execution_count": 16,
   "id": "836675ad",
   "metadata": {
    "execution": {
     "iopub.execute_input": "2023-07-18T10:29:05.076366Z",
     "iopub.status.busy": "2023-07-18T10:29:05.075975Z",
     "iopub.status.idle": "2023-07-18T10:29:05.108904Z",
     "shell.execute_reply": "2023-07-18T10:29:05.107548Z"
    },
    "executionInfo": {
     "elapsed": 25,
     "status": "ok",
     "timestamp": 1687784827830,
     "user": {
      "displayName": "Zainab Hashmi",
      "userId": "18109503910469851693"
     },
     "user_tz": -330
    },
    "id": "MN7P6zK0w2Ck",
    "outputId": "dd4a6e81-f68e-47ca-e76e-690afac24ae4",
    "papermill": {
     "duration": 0.052966,
     "end_time": "2023-07-18T10:29:05.111497",
     "exception": false,
     "start_time": "2023-07-18T10:29:05.058531",
     "status": "completed"
    },
    "tags": []
   },
   "outputs": [
    {
     "name": "stdout",
     "output_type": "stream",
     "text": [
      "                             dept                                     title  \\\n",
      "0         Health & Human Services                        CHIEF PHYSICIAN,MD   \n",
      "1    Houston Airport System (HAS)         DEPUTY DIRECTOR-AVIATION (EX LVL)   \n",
      "2   Houston Fire Department (HFD)       ASSOCIATE EMS PHYSICIAN DIRECTOR,MD   \n",
      "3   Houston Police Department-HPD  DEPUTY DIRECTOR-FINANCE & ADMINISTRATION   \n",
      "4              Parks & Recreation                          DIVISION MANAGER   \n",
      "5  Public Works & Engineering-PWE   DEPUTY DIRECTOR-PUBLIC WORKS (EXECUTIVE   \n",
      "\n",
      "     salary  \n",
      "0  180416.0  \n",
      "1  186192.0  \n",
      "2  210588.0  \n",
      "3  199596.0  \n",
      "4   85055.0  \n",
      "5  178331.0  \n"
     ]
    }
   ],
   "source": [
    "top_employee = employee.groupby('dept')[['dept', 'title', 'salary']].apply(lambda x: x.nlargest(1, 'salary')).reset_index(drop=True)\n",
    "print(top_employee)"
   ]
  },
  {
   "cell_type": "markdown",
   "id": "2682d6f6",
   "metadata": {
    "id": "VNiscxgXwP8k",
    "papermill": {
     "duration": 0.015419,
     "end_time": "2023-07-18T10:29:05.142676",
     "exception": false,
     "start_time": "2023-07-18T10:29:05.127257",
     "status": "completed"
    },
    "tags": []
   },
   "source": [
    "**5.Return the Median salary for all employee hired from Jan 1,2010.**"
   ]
  },
  {
   "cell_type": "code",
   "execution_count": 17,
   "id": "cfba027f",
   "metadata": {
    "execution": {
     "iopub.execute_input": "2023-07-18T10:29:05.176954Z",
     "iopub.status.busy": "2023-07-18T10:29:05.176252Z",
     "iopub.status.idle": "2023-07-18T10:29:05.184762Z",
     "shell.execute_reply": "2023-07-18T10:29:05.183251Z"
    },
    "executionInfo": {
     "elapsed": 24,
     "status": "ok",
     "timestamp": 1687784827830,
     "user": {
      "displayName": "Zainab Hashmi",
      "userId": "18109503910469851693"
     },
     "user_tz": -330
    },
    "id": "tY5BAELEw20c",
    "outputId": "2ad4e8f0-7cc3-45dd-972f-696b979fe6f3",
    "papermill": {
     "duration": 0.028426,
     "end_time": "2023-07-18T10:29:05.187254",
     "exception": false,
     "start_time": "2023-07-18T10:29:05.158828",
     "status": "completed"
    },
    "tags": []
   },
   "outputs": [
    {
     "name": "stdout",
     "output_type": "stream",
     "text": [
      "43443.0\n"
     ]
    }
   ],
   "source": [
    "filtered_employee = employee[employee['hire_date'] >= '2010-01-01']\n",
    "median_salary = filtered_employee['salary'].median()\n",
    "print(median_salary)"
   ]
  },
  {
   "cell_type": "markdown",
   "id": "cf91643a",
   "metadata": {
    "id": "zY4DQu7ewWUN",
    "papermill": {
     "duration": 0.015685,
     "end_time": "2023-07-18T10:29:05.219252",
     "exception": false,
     "start_time": "2023-07-18T10:29:05.203567",
     "status": "completed"
    },
    "tags": []
   },
   "source": [
    "**6.Return a series of number of employee hired each August. Place the year in index and sort by year.**"
   ]
  },
  {
   "cell_type": "code",
   "execution_count": 18,
   "id": "04dc62d4",
   "metadata": {
    "execution": {
     "iopub.execute_input": "2023-07-18T10:29:05.252895Z",
     "iopub.status.busy": "2023-07-18T10:29:05.252474Z",
     "iopub.status.idle": "2023-07-18T10:29:05.266645Z",
     "shell.execute_reply": "2023-07-18T10:29:05.265190Z"
    },
    "executionInfo": {
     "elapsed": 23,
     "status": "ok",
     "timestamp": 1687784827830,
     "user": {
      "displayName": "Zainab Hashmi",
      "userId": "18109503910469851693"
     },
     "user_tz": -330
    },
    "id": "5WGObQ9vw3Ut",
    "outputId": "a4e52591-d3be-4820-da92-2f3783e6d5ad",
    "papermill": {
     "duration": 0.034223,
     "end_time": "2023-07-18T10:29:05.269217",
     "exception": false,
     "start_time": "2023-07-18T10:29:05.234994",
     "status": "completed"
    },
    "tags": []
   },
   "outputs": [
    {
     "name": "stdout",
     "output_type": "stream",
     "text": [
      "1971    1\n",
      "1979    2\n",
      "1980    5\n",
      "1982    1\n",
      "1983    1\n",
      "1985    1\n",
      "1987    1\n",
      "1989    1\n",
      "1990    1\n",
      "1991    9\n",
      "1992    8\n",
      "1993    6\n",
      "1994    7\n",
      "1995    3\n",
      "1997    8\n",
      "1998    9\n",
      "1999    4\n",
      "2000    4\n",
      "2001    3\n",
      "2002    3\n",
      "2004    7\n",
      "2005    5\n",
      "2006    9\n",
      "2007    9\n",
      "2008    5\n",
      "2009    4\n",
      "2011    3\n",
      "2012    2\n",
      "2013    6\n",
      "2014    1\n",
      "2015    6\n",
      "Name: hire_date, dtype: int64\n"
     ]
    }
   ],
   "source": [
    "employee['hire_date'] = pd.to_datetime(employee['hire_date'])\n",
    "august_hires = employee[employee['hire_date'].dt.month == 8]['hire_date'].dt.year.value_counts().sort_index()\n",
    "\n",
    "# If you want to display the series with the year as the index:\n",
    "print(august_hires)"
   ]
  },
  {
   "cell_type": "markdown",
   "id": "d1d04e4d",
   "metadata": {
    "id": "nV7hwyp9wZKH",
    "papermill": {
     "duration": 0.015317,
     "end_time": "2023-07-18T10:29:05.300367",
     "exception": false,
     "start_time": "2023-07-18T10:29:05.285050",
     "status": "completed"
    },
    "tags": []
   },
   "source": [
    "**7.Return the number of employee from Police department, that do not have the word \"police\" in their title, ignore case.**"
   ]
  },
  {
   "cell_type": "code",
   "execution_count": 19,
   "id": "84ed6c56",
   "metadata": {
    "execution": {
     "iopub.execute_input": "2023-07-18T10:29:05.333664Z",
     "iopub.status.busy": "2023-07-18T10:29:05.333282Z",
     "iopub.status.idle": "2023-07-18T10:29:05.343596Z",
     "shell.execute_reply": "2023-07-18T10:29:05.342181Z"
    },
    "executionInfo": {
     "elapsed": 23,
     "status": "ok",
     "timestamp": 1687784827831,
     "user": {
      "displayName": "Zainab Hashmi",
      "userId": "18109503910469851693"
     },
     "user_tz": -330
    },
    "id": "A3Q4kFg6w33m",
    "outputId": "6a780a2e-e6b9-4616-ad2e-88d10c36153d",
    "papermill": {
     "duration": 0.02979,
     "end_time": "2023-07-18T10:29:05.345910",
     "exception": false,
     "start_time": "2023-07-18T10:29:05.316120",
     "status": "completed"
    },
    "tags": []
   },
   "outputs": [
    {
     "name": "stdout",
     "output_type": "stream",
     "text": [
      "0\n"
     ]
    }
   ],
   "source": [
    "police_count = employee[(employee['dept'] == 'Police') & (~employee['title'].str.contains('police', case=False))].shape[0]\n",
    "print(police_count)"
   ]
  },
  {
   "cell_type": "markdown",
   "id": "6b72eefa",
   "metadata": {
    "id": "R_4DYbpnwcpX",
    "papermill": {
     "duration": 0.015504,
     "end_time": "2023-07-18T10:29:05.377207",
     "exception": false,
     "start_time": "2023-07-18T10:29:05.361703",
     "status": "completed"
    },
    "tags": []
   },
   "source": [
    "**8.Which Gender and Race combination appears the most in this dataset ? Return sex,race and count as a three item tuple.**"
   ]
  },
  {
   "cell_type": "code",
   "execution_count": 20,
   "id": "20c5ea40",
   "metadata": {
    "execution": {
     "iopub.execute_input": "2023-07-18T10:29:05.411409Z",
     "iopub.status.busy": "2023-07-18T10:29:05.410967Z",
     "iopub.status.idle": "2023-07-18T10:29:05.424937Z",
     "shell.execute_reply": "2023-07-18T10:29:05.423409Z"
    },
    "executionInfo": {
     "elapsed": 23,
     "status": "ok",
     "timestamp": 1687784827831,
     "user": {
      "displayName": "Zainab Hashmi",
      "userId": "18109503910469851693"
     },
     "user_tz": -330
    },
    "id": "RS6Jl0WDw4M_",
    "outputId": "9a68f9d7-84bd-4bcb-b668-180540027b63",
    "papermill": {
     "duration": 0.034405,
     "end_time": "2023-07-18T10:29:05.427531",
     "exception": false,
     "start_time": "2023-07-18T10:29:05.393126",
     "status": "completed"
    },
    "tags": []
   },
   "outputs": [
    {
     "name": "stdout",
     "output_type": "stream",
     "text": [
      "('Male', 'White', 522)\n"
     ]
    }
   ],
   "source": [
    "most_common_combination = employee.groupby(['gender', 'race']).size().idxmax()\n",
    "count = employee.groupby(['gender', 'race']).size().max()\n",
    "\n",
    "most_common_combination_with_count = (*most_common_combination, count)\n",
    "print(most_common_combination_with_count)"
   ]
  },
  {
   "cell_type": "markdown",
   "id": "c90ade3c",
   "metadata": {
    "id": "-f3R7Hkpwg1e",
    "papermill": {
     "duration": 0.016951,
     "end_time": "2023-07-18T10:29:05.461158",
     "exception": false,
     "start_time": "2023-07-18T10:29:05.444207",
     "status": "completed"
    },
    "tags": []
   },
   "source": [
    "**9.Return a dataframe in strictly increasing salaries, without changing the row order, but filtering such that the employee who does not have salary greater than employee above them.**"
   ]
  },
  {
   "cell_type": "code",
   "execution_count": 21,
   "id": "53fc17b2",
   "metadata": {
    "execution": {
     "iopub.execute_input": "2023-07-18T10:29:05.495194Z",
     "iopub.status.busy": "2023-07-18T10:29:05.494728Z",
     "iopub.status.idle": "2023-07-18T10:29:05.509666Z",
     "shell.execute_reply": "2023-07-18T10:29:05.508057Z"
    },
    "executionInfo": {
     "elapsed": 22,
     "status": "ok",
     "timestamp": 1687784827831,
     "user": {
      "displayName": "Zainab Hashmi",
      "userId": "18109503910469851693"
     },
     "user_tz": -330
    },
    "id": "iOAxLo8Mw4f7",
    "outputId": "4ba1edcc-2118-4d19-dfd9-e26ecf9ec717",
    "papermill": {
     "duration": 0.034834,
     "end_time": "2023-07-18T10:29:05.512120",
     "exception": false,
     "start_time": "2023-07-18T10:29:05.477286",
     "status": "completed"
    },
    "tags": []
   },
   "outputs": [
    {
     "name": "stdout",
     "output_type": "stream",
     "text": [
      "                                         title  \\\n",
      "1                            ENGINEER/OPERATOR   \n",
      "2                        SENIOR POLICE OFFICER   \n",
      "3                                     ENGINEER   \n",
      "5     DEPUTY ASSISTANT DIRECTOR (EXECUTIVE LEV   \n",
      "7                                 FIRE FIGHTER   \n",
      "...                                        ...   \n",
      "1644                  MOBILITY SERVICE OFFICER   \n",
      "1646                           POLICE SERGEANT   \n",
      "1647                            POLICE CAPTAIN   \n",
      "1649                    COMMUNICATIONS CAPTAIN   \n",
      "1651                            POLICE OFFICER   \n",
      "\n",
      "                                dept    salary      race  gender  hire_date  \n",
      "1      Houston Fire Department (HFD)   63166.0     White    Male 1982-02-08  \n",
      "2      Houston Police Department-HPD   66614.0     Black    Male 1984-11-26  \n",
      "3     Public Works & Engineering-PWE   71680.0     Asian    Male 2012-03-26  \n",
      "5     Public Works & Engineering-PWE  107962.0     White    Male 1993-11-15  \n",
      "7      Houston Fire Department (HFD)   52644.0  Hispanic    Male 2007-05-21  \n",
      "...                              ...       ...       ...     ...        ...  \n",
      "1644   Houston Police Department-HPD   44429.0  Hispanic  Female 2005-09-12  \n",
      "1646   Houston Police Department-HPD   81239.0     White    Male 1982-05-03  \n",
      "1647   Houston Police Department-HPD  104455.0     Black    Male 1983-02-07  \n",
      "1649   Houston Fire Department (HFD)   66523.0     Black    Male 2003-09-02  \n",
      "1651   Houston Police Department-HPD   55461.0     Asian    Male 2009-01-20  \n",
      "\n",
      "[721 rows x 6 columns]\n"
     ]
    }
   ],
   "source": [
    "increasing_salaries = employee[employee['salary'].diff() > 0]\n",
    "print(increasing_salaries)"
   ]
  },
  {
   "cell_type": "markdown",
   "id": "68eeb9c3",
   "metadata": {
    "id": "jwQhrPFlwnsL",
    "papermill": {
     "duration": 0.015807,
     "end_time": "2023-07-18T10:29:05.544274",
     "exception": false,
     "start_time": "2023-07-18T10:29:05.528467",
     "status": "completed"
    },
    "tags": []
   },
   "source": [
    "**10.For each department, find the average % of employee that have word \"Senior\" in their title, ignore the case, return the series with department as index.**"
   ]
  },
  {
   "cell_type": "code",
   "execution_count": 22,
   "id": "d5b7b102",
   "metadata": {
    "execution": {
     "iopub.execute_input": "2023-07-18T10:29:05.578397Z",
     "iopub.status.busy": "2023-07-18T10:29:05.578005Z",
     "iopub.status.idle": "2023-07-18T10:29:05.592068Z",
     "shell.execute_reply": "2023-07-18T10:29:05.590668Z"
    },
    "executionInfo": {
     "elapsed": 22,
     "status": "ok",
     "timestamp": 1687784827832,
     "user": {
      "displayName": "Zainab Hashmi",
      "userId": "18109503910469851693"
     },
     "user_tz": -330
    },
    "id": "BPoxgznDw4-a",
    "outputId": "d3e3a0d4-54e7-42e9-e8cb-ef6f0a111606",
    "papermill": {
     "duration": 0.034075,
     "end_time": "2023-07-18T10:29:05.594412",
     "exception": false,
     "start_time": "2023-07-18T10:29:05.560337",
     "status": "completed"
    },
    "tags": []
   },
   "outputs": [
    {
     "name": "stdout",
     "output_type": "stream",
     "text": [
      "dept\n",
      "Health & Human Services           0.212963\n",
      "Houston Airport System (HAS)      0.047170\n",
      "Houston Fire Department (HFD)     0.057292\n",
      "Houston Police Department-HPD     0.377743\n",
      "Parks & Recreation                0.040541\n",
      "Public Works & Engineering-PWE    0.128280\n",
      "Name: is_senior, dtype: float64\n"
     ]
    }
   ],
   "source": [
    "employee['is_senior'] = employee['title'].str.contains('senior', case=False)\n",
    "avg_senior_percentage = employee.groupby('dept')['is_senior'].mean()\n",
    "print(avg_senior_percentage)"
   ]
  },
  {
   "cell_type": "markdown",
   "id": "214c188a",
   "metadata": {
    "id": "1jgsHpyKwsoW",
    "papermill": {
     "duration": 0.01614,
     "end_time": "2023-07-18T10:29:05.626939",
     "exception": false,
     "start_time": "2023-07-18T10:29:05.610799",
     "status": "completed"
    },
    "tags": []
   },
   "source": [
    "**11.Find the percentage of employee gender per department.**"
   ]
  },
  {
   "cell_type": "code",
   "execution_count": 23,
   "id": "c9cec827",
   "metadata": {
    "execution": {
     "iopub.execute_input": "2023-07-18T10:29:05.661684Z",
     "iopub.status.busy": "2023-07-18T10:29:05.660498Z",
     "iopub.status.idle": "2023-07-18T10:29:05.672140Z",
     "shell.execute_reply": "2023-07-18T10:29:05.670513Z"
    },
    "executionInfo": {
     "elapsed": 380,
     "status": "ok",
     "timestamp": 1687785281155,
     "user": {
      "displayName": "Zainab Hashmi",
      "userId": "18109503910469851693"
     },
     "user_tz": -330
    },
    "id": "E-4UcoTXw5VY",
    "outputId": "6a78dff0-df11-408f-b1a9-db2e49acfab0",
    "papermill": {
     "duration": 0.031744,
     "end_time": "2023-07-18T10:29:05.674792",
     "exception": false,
     "start_time": "2023-07-18T10:29:05.643048",
     "status": "completed"
    },
    "tags": []
   },
   "outputs": [
    {
     "name": "stdout",
     "output_type": "stream",
     "text": [
      "dept                            gender\n",
      "Health & Human Services         Female    75.925926\n",
      "                                Male      24.074074\n",
      "Houston Airport System (HAS)    Female    33.962264\n",
      "                                Male      66.037736\n",
      "Houston Fire Department (HFD)   Female     5.468750\n",
      "                                Male      94.531250\n",
      "Houston Police Department-HPD   Female    24.294671\n",
      "                                Male      75.705329\n",
      "Parks & Recreation              Female    31.081081\n",
      "                                Male      68.918919\n",
      "Public Works & Engineering-PWE  Female    31.486880\n",
      "                                Male      68.513120\n",
      "dtype: float64\n"
     ]
    }
   ],
   "source": [
    "percentage_by_gender_per_department = employee.groupby(['dept', 'gender']).size() / employee.groupby('dept').size() * 100\n",
    "print(f\"{percentage_by_gender_per_department}\")"
   ]
  },
  {
   "cell_type": "code",
   "execution_count": null,
   "id": "6e09c27e",
   "metadata": {
    "executionInfo": {
     "elapsed": 21,
     "status": "ok",
     "timestamp": 1687784827832,
     "user": {
      "displayName": "Zainab Hashmi",
      "userId": "18109503910469851693"
     },
     "user_tz": -330
    },
    "id": "zfyaEEpDzEXD",
    "papermill": {
     "duration": 0.016093,
     "end_time": "2023-07-18T10:29:05.707298",
     "exception": false,
     "start_time": "2023-07-18T10:29:05.691205",
     "status": "completed"
    },
    "tags": []
   },
   "outputs": [],
   "source": []
  }
 ],
 "metadata": {
  "kernelspec": {
   "display_name": "Python 3",
   "language": "python",
   "name": "python3"
  },
  "language_info": {
   "codemirror_mode": {
    "name": "ipython",
    "version": 3
   },
   "file_extension": ".py",
   "mimetype": "text/x-python",
   "name": "python",
   "nbconvert_exporter": "python",
   "pygments_lexer": "ipython3",
   "version": "3.10.12"
  },
  "papermill": {
   "default_parameters": {},
   "duration": 14.137763,
   "end_time": "2023-07-18T10:29:06.645904",
   "environment_variables": {},
   "exception": null,
   "input_path": "__notebook__.ipynb",
   "output_path": "__notebook__.ipynb",
   "parameters": {},
   "start_time": "2023-07-18T10:28:52.508141",
   "version": "2.4.0"
  }
 },
 "nbformat": 4,
 "nbformat_minor": 5
}
